{
 "cells": [
  {
   "cell_type": "markdown",
   "id": "63928bd9",
   "metadata": {},
   "source": [
    "Hello Tzvi!\n",
    "\n",
    "My name is Olga. I'm happy to review your project today. \n",
    "\n",
    "When I will see mistake at the first time, I will just point it out. I let you find it and fix it by yourself. I'm trying to prepare you to work as an Data Analyst. SO, at a real job, your team lead will do the same. But if you can't handle this task yet, I will give you a more accurate hint at the next iteration.\n",
    "\n",
    "You will find my comments below - **please do not move, modify or delete them**.\n",
    "\n",
    "You can find my comments in green, yellow or red boxes like this:\n",
    "\n",
    "\n",
    "<div class=\"alert alert-block alert-success\">\n",
    "<b>Reviewer's comment</b> <a class=\"tocSkip\"></a>\n",
    "    \n",
    "Success. Everything is done succesfully.\n",
    "</div>\n",
    "\n",
    "\n",
    "<div class=\"alert alert-block alert-warning\">\n",
    "<b>Reviewer's comment</b> <a class=\"tocSkip\"></a>\n",
    "    \n",
    "Remarks. Some recommendations.\n",
    "</div>\n",
    "\n",
    "\n",
    "<div class=\"alert alert-block alert-danger\">\n",
    "    \n",
    "<b>Reviewer's comment</b> <a class=\"tocSkip\"></a>\n",
    "    \n",
    "    \n",
    "Needs fixing. The block requires some corrections. Work can't be accepted with the red comments.\n",
    "</div>\n",
    "\n",
    "\n",
    "You can answer me by using this: \n",
    "\n",
    "<div class=\"alert alert-block alert-info\">\n",
    "<b>Student answer.</b> <a class=\"tocSkip\"></a>\n",
    "</div>"
   ]
  },
  {
   "cell_type": "markdown",
   "id": "3c7cba7f",
   "metadata": {},
   "source": [
    "<div class=\"alert alert-block alert-success\">\n",
    "<b>Overallv reviewer's comment</b> <a class=\"tocSkip\"></a>\n",
    "    \n",
    "Tzvi, thank you for sending your project. \n",
    "\n",
    "You have provided a good job! You correctly used subqueries to solve the tasks. \n",
    "\n",
    "<span class=\"text-danger\">However, one query should be improved. Please check my comments and I believe you can easily fix them!</span>\n",
    "    \n",
    "Keep up the good work, and come back soon!\n",
    "    \n",
    "</div>"
   ]
  },
  {
   "cell_type": "markdown",
   "id": "11b96a76",
   "metadata": {},
   "source": [
    "# Book lover"
   ]
  },
  {
   "cell_type": "markdown",
   "id": "c262dd7a",
   "metadata": {},
   "source": [
    "I've been given a database of one of the apps for book lovers services. It contains data on books, publishers, authors, and customer ratings and reviews of books. This information will be used to generate a value proposition for a new product. "
   ]
  },
  {
   "cell_type": "markdown",
   "id": "38d0f139",
   "metadata": {},
   "source": [
    "For this information to be used effectively, I have to:\n",
    "1. Find the number of books released after January 1, 2000.\n",
    "1. Find the number of user reviews and the average rating for each book.\n",
    "1. Identify the publisher that has released the greatest number of books with more than 50 pages\n",
    "1. Identify the author with the highest average book rating (look only at books with at least 50 ratings).\n",
    "1. Find the average number of text reviews among users who rated more than 50 books."
   ]
  },
  {
   "cell_type": "markdown",
   "id": "f81441ef",
   "metadata": {},
   "source": [
    "<div class=\"alert alert-block alert-success\">\n",
    "<b>Reviewer's comment</b> <a class=\"tocSkip\"></a>\n",
    "    \n",
    "Excellent introduction! Let's start!\n",
    "</div>"
   ]
  },
  {
   "cell_type": "code",
   "execution_count": 1,
   "id": "98dfeb48",
   "metadata": {},
   "outputs": [],
   "source": [
    "import pandas as pd\n",
    "from sqlalchemy import create_engine\n",
    "\n",
    "\n",
    "db_config = {'user': 'praktikum_student',         # user name\n",
    "             'pwd': 'Sdf4$2;d-d30pp', # password\n",
    "             'host': 'rc1b-wcoijxj3yxfsf3fs.mdb.yandexcloud.net',\n",
    "             'port': 6432,              # connection port\n",
    "             'db': 'data-analyst-final-project-db'}          # the name of the data base\n",
    "\n",
    "connection_string = 'postgresql://{}:{}@{}:{}/{}'.format(db_config['user'],\n",
    "                                                                     db_config['pwd'],\n",
    "                                                                       db_config['host'],\n",
    "                                                                       db_config['port'],\n",
    "                                                                       db_config['db'])\n",
    "\n",
    "engine = create_engine(connection_string, connect_args={'sslmode':'require'})"
   ]
  },
  {
   "cell_type": "markdown",
   "id": "f2ad9fa5",
   "metadata": {},
   "source": [
    "<div class=\"alert alert-block alert-success\">\n",
    "<b>Reviewer's comment</b> <a class=\"tocSkip\"></a>\n",
    "    \n",
    "Yep! All is right here!</div>"
   ]
  },
  {
   "cell_type": "markdown",
   "id": "06b3d941",
   "metadata": {},
   "source": [
    "<div class=\"alert alert-block alert-warning\">\n",
    "<b>Reviewer's comment</b> <a class=\"tocSkip\"></a>\n",
    "    \n",
    "It would be more informative to show tables and check missing values and duplicates. </div>"
   ]
  },
  {
   "cell_type": "markdown",
   "id": "284c724c",
   "metadata": {},
   "source": [
    "# number of books released"
   ]
  },
  {
   "cell_type": "markdown",
   "id": "a28905c9",
   "metadata": {},
   "source": [
    "<div class=\"alert alert-block alert-danger\">\n",
    "<b>Reviewer's comment</b> <a class=\"tocSkip\"></a>\n",
    "    \n",
    "Could you add conclusions for each step?</div>"
   ]
  },
  {
   "cell_type": "code",
   "execution_count": 2,
   "id": "9e1afd5c",
   "metadata": {},
   "outputs": [
    {
     "data": {
      "text/html": [
       "<div>\n",
       "<style scoped>\n",
       "    .dataframe tbody tr th:only-of-type {\n",
       "        vertical-align: middle;\n",
       "    }\n",
       "\n",
       "    .dataframe tbody tr th {\n",
       "        vertical-align: top;\n",
       "    }\n",
       "\n",
       "    .dataframe thead th {\n",
       "        text-align: right;\n",
       "    }\n",
       "</style>\n",
       "<table border=\"1\" class=\"dataframe\">\n",
       "  <thead>\n",
       "    <tr style=\"text-align: right;\">\n",
       "      <th></th>\n",
       "      <th>book_id</th>\n",
       "      <th>author_id</th>\n",
       "      <th>title</th>\n",
       "      <th>num_pages</th>\n",
       "      <th>publication_date</th>\n",
       "      <th>publisher_id</th>\n",
       "    </tr>\n",
       "  </thead>\n",
       "  <tbody>\n",
       "    <tr>\n",
       "      <th>0</th>\n",
       "      <td>43</td>\n",
       "      <td>377</td>\n",
       "      <td>A Quick Bite (Argeneau #1)</td>\n",
       "      <td>360</td>\n",
       "      <td>2020-03-31</td>\n",
       "      <td>28</td>\n",
       "    </tr>\n",
       "    <tr>\n",
       "      <th>1</th>\n",
       "      <td>635</td>\n",
       "      <td>166</td>\n",
       "      <td>The Art of Loving</td>\n",
       "      <td>192</td>\n",
       "      <td>2019-08-06</td>\n",
       "      <td>130</td>\n",
       "    </tr>\n",
       "    <tr>\n",
       "      <th>2</th>\n",
       "      <td>445</td>\n",
       "      <td>612</td>\n",
       "      <td>Monster</td>\n",
       "      <td>281</td>\n",
       "      <td>2019-03-05</td>\n",
       "      <td>14</td>\n",
       "    </tr>\n",
       "    <tr>\n",
       "      <th>3</th>\n",
       "      <td>293</td>\n",
       "      <td>80</td>\n",
       "      <td>Ham on Rye</td>\n",
       "      <td>288</td>\n",
       "      <td>2014-07-29</td>\n",
       "      <td>99</td>\n",
       "    </tr>\n",
       "    <tr>\n",
       "      <th>4</th>\n",
       "      <td>993</td>\n",
       "      <td>80</td>\n",
       "      <td>Women</td>\n",
       "      <td>291</td>\n",
       "      <td>2014-07-29</td>\n",
       "      <td>99</td>\n",
       "    </tr>\n",
       "    <tr>\n",
       "      <th>5</th>\n",
       "      <td>414</td>\n",
       "      <td>626</td>\n",
       "      <td>Macbeth</td>\n",
       "      <td>249</td>\n",
       "      <td>2013-07-01</td>\n",
       "      <td>268</td>\n",
       "    </tr>\n",
       "    <tr>\n",
       "      <th>6</th>\n",
       "      <td>361</td>\n",
       "      <td>240</td>\n",
       "      <td>J.R.R. Tolkien 4-Book Boxed Set: The Hobbit an...</td>\n",
       "      <td>1728</td>\n",
       "      <td>2012-09-25</td>\n",
       "      <td>33</td>\n",
       "    </tr>\n",
       "    <tr>\n",
       "      <th>7</th>\n",
       "      <td>36</td>\n",
       "      <td>169</td>\n",
       "      <td>A Moveable Feast</td>\n",
       "      <td>192</td>\n",
       "      <td>2012-09-06</td>\n",
       "      <td>309</td>\n",
       "    </tr>\n",
       "    <tr>\n",
       "      <th>8</th>\n",
       "      <td>428</td>\n",
       "      <td>301</td>\n",
       "      <td>Men Are from Mars  Women Are from Venus</td>\n",
       "      <td>368</td>\n",
       "      <td>2012-04-03</td>\n",
       "      <td>128</td>\n",
       "    </tr>\n",
       "    <tr>\n",
       "      <th>9</th>\n",
       "      <td>87</td>\n",
       "      <td>626</td>\n",
       "      <td>As You Like It</td>\n",
       "      <td>263</td>\n",
       "      <td>2011-08-23</td>\n",
       "      <td>275</td>\n",
       "    </tr>\n",
       "  </tbody>\n",
       "</table>\n",
       "</div>"
      ],
      "text/plain": [
       "   book_id  author_id                                              title  \\\n",
       "0       43        377                         A Quick Bite (Argeneau #1)   \n",
       "1      635        166                                  The Art of Loving   \n",
       "2      445        612                                            Monster   \n",
       "3      293         80                                         Ham on Rye   \n",
       "4      993         80                                              Women   \n",
       "5      414        626                                            Macbeth   \n",
       "6      361        240  J.R.R. Tolkien 4-Book Boxed Set: The Hobbit an...   \n",
       "7       36        169                                   A Moveable Feast   \n",
       "8      428        301            Men Are from Mars  Women Are from Venus   \n",
       "9       87        626                                     As You Like It   \n",
       "\n",
       "   num_pages publication_date  publisher_id  \n",
       "0        360       2020-03-31            28  \n",
       "1        192       2019-08-06           130  \n",
       "2        281       2019-03-05            14  \n",
       "3        288       2014-07-29            99  \n",
       "4        291       2014-07-29            99  \n",
       "5        249       2013-07-01           268  \n",
       "6       1728       2012-09-25            33  \n",
       "7        192       2012-09-06           309  \n",
       "8        368       2012-04-03           128  \n",
       "9        263       2011-08-23           275  "
      ]
     },
     "execution_count": 2,
     "metadata": {},
     "output_type": "execute_result"
    }
   ],
   "source": [
    "qrl = \"SELECT * FROM books ORDER BY publication_date DESC LIMIT 10;\"\n",
    "\n",
    "pd.io.sql.read_sql(qrl, con = engine)"
   ]
  },
  {
   "cell_type": "code",
   "execution_count": 3,
   "id": "1fbc0820",
   "metadata": {},
   "outputs": [
    {
     "data": {
      "text/html": [
       "<div>\n",
       "<style scoped>\n",
       "    .dataframe tbody tr th:only-of-type {\n",
       "        vertical-align: middle;\n",
       "    }\n",
       "\n",
       "    .dataframe tbody tr th {\n",
       "        vertical-align: top;\n",
       "    }\n",
       "\n",
       "    .dataframe thead th {\n",
       "        text-align: right;\n",
       "    }\n",
       "</style>\n",
       "<table border=\"1\" class=\"dataframe\">\n",
       "  <thead>\n",
       "    <tr style=\"text-align: right;\">\n",
       "      <th></th>\n",
       "      <th>book_id</th>\n",
       "      <th>author_id</th>\n",
       "      <th>title</th>\n",
       "      <th>num_pages</th>\n",
       "      <th>publication_date</th>\n",
       "      <th>publisher_id</th>\n",
       "    </tr>\n",
       "  </thead>\n",
       "  <tbody>\n",
       "    <tr>\n",
       "      <th>0</th>\n",
       "      <td>49</td>\n",
       "      <td>569</td>\n",
       "      <td>A Streetcar Named Desire</td>\n",
       "      <td>107</td>\n",
       "      <td>1952-12-01</td>\n",
       "      <td>97</td>\n",
       "    </tr>\n",
       "    <tr>\n",
       "      <th>1</th>\n",
       "      <td>823</td>\n",
       "      <td>20</td>\n",
       "      <td>The Philosophy of Andy Warhol (From A to B and...</td>\n",
       "      <td>272</td>\n",
       "      <td>1977-04-06</td>\n",
       "      <td>178</td>\n",
       "    </tr>\n",
       "    <tr>\n",
       "      <th>2</th>\n",
       "      <td>869</td>\n",
       "      <td>542</td>\n",
       "      <td>The Shining</td>\n",
       "      <td>659</td>\n",
       "      <td>1980-07-01</td>\n",
       "      <td>190</td>\n",
       "    </tr>\n",
       "    <tr>\n",
       "      <th>3</th>\n",
       "      <td>321</td>\n",
       "      <td>197</td>\n",
       "      <td>Homage to Catalonia</td>\n",
       "      <td>232</td>\n",
       "      <td>1980-10-22</td>\n",
       "      <td>124</td>\n",
       "    </tr>\n",
       "    <tr>\n",
       "      <th>4</th>\n",
       "      <td>126</td>\n",
       "      <td>173</td>\n",
       "      <td>Brideshead Revisited</td>\n",
       "      <td>351</td>\n",
       "      <td>1982-01-30</td>\n",
       "      <td>31</td>\n",
       "    </tr>\n",
       "    <tr>\n",
       "      <th>5</th>\n",
       "      <td>153</td>\n",
       "      <td>324</td>\n",
       "      <td>Cloudy With a Chance of Meatballs (Cloudy with...</td>\n",
       "      <td>32</td>\n",
       "      <td>1982-04-01</td>\n",
       "      <td>25</td>\n",
       "    </tr>\n",
       "    <tr>\n",
       "      <th>6</th>\n",
       "      <td>775</td>\n",
       "      <td>253</td>\n",
       "      <td>The Last of the Mohicans (The Leatherstocking ...</td>\n",
       "      <td>410</td>\n",
       "      <td>1982-06-01</td>\n",
       "      <td>38</td>\n",
       "    </tr>\n",
       "    <tr>\n",
       "      <th>7</th>\n",
       "      <td>165</td>\n",
       "      <td>544</td>\n",
       "      <td>Creepshow</td>\n",
       "      <td>66</td>\n",
       "      <td>1982-08-01</td>\n",
       "      <td>226</td>\n",
       "    </tr>\n",
       "    <tr>\n",
       "      <th>8</th>\n",
       "      <td>752</td>\n",
       "      <td>307</td>\n",
       "      <td>The Hotel New Hampshire</td>\n",
       "      <td>520</td>\n",
       "      <td>1982-10-22</td>\n",
       "      <td>51</td>\n",
       "    </tr>\n",
       "    <tr>\n",
       "      <th>9</th>\n",
       "      <td>213</td>\n",
       "      <td>354</td>\n",
       "      <td>Emily of New Moon (Emily  #1)</td>\n",
       "      <td>339</td>\n",
       "      <td>1983-04-01</td>\n",
       "      <td>81</td>\n",
       "    </tr>\n",
       "  </tbody>\n",
       "</table>\n",
       "</div>"
      ],
      "text/plain": [
       "   book_id  author_id                                              title  \\\n",
       "0       49        569                           A Streetcar Named Desire   \n",
       "1      823         20  The Philosophy of Andy Warhol (From A to B and...   \n",
       "2      869        542                                        The Shining   \n",
       "3      321        197                                Homage to Catalonia   \n",
       "4      126        173                               Brideshead Revisited   \n",
       "5      153        324  Cloudy With a Chance of Meatballs (Cloudy with...   \n",
       "6      775        253  The Last of the Mohicans (The Leatherstocking ...   \n",
       "7      165        544                                          Creepshow   \n",
       "8      752        307                            The Hotel New Hampshire   \n",
       "9      213        354                      Emily of New Moon (Emily  #1)   \n",
       "\n",
       "   num_pages publication_date  publisher_id  \n",
       "0        107       1952-12-01            97  \n",
       "1        272       1977-04-06           178  \n",
       "2        659       1980-07-01           190  \n",
       "3        232       1980-10-22           124  \n",
       "4        351       1982-01-30            31  \n",
       "5         32       1982-04-01            25  \n",
       "6        410       1982-06-01            38  \n",
       "7         66       1982-08-01           226  \n",
       "8        520       1982-10-22            51  \n",
       "9        339       1983-04-01            81  "
      ]
     },
     "execution_count": 3,
     "metadata": {},
     "output_type": "execute_result"
    }
   ],
   "source": [
    "pop = \"SELECT * FROM books ORDER BY publication_date LIMIT 10;\"\n",
    "\n",
    "pd.io.sql.read_sql(pop, con = engine)"
   ]
  },
  {
   "cell_type": "code",
   "execution_count": 10,
   "id": "70c534ba",
   "metadata": {},
   "outputs": [
    {
     "data": {
      "text/html": [
       "<div>\n",
       "<style scoped>\n",
       "    .dataframe tbody tr th:only-of-type {\n",
       "        vertical-align: middle;\n",
       "    }\n",
       "\n",
       "    .dataframe tbody tr th {\n",
       "        vertical-align: top;\n",
       "    }\n",
       "\n",
       "    .dataframe thead th {\n",
       "        text-align: right;\n",
       "    }\n",
       "</style>\n",
       "<table border=\"1\" class=\"dataframe\">\n",
       "  <thead>\n",
       "    <tr style=\"text-align: right;\">\n",
       "      <th></th>\n",
       "      <th>count</th>\n",
       "    </tr>\n",
       "  </thead>\n",
       "  <tbody>\n",
       "    <tr>\n",
       "      <th>0</th>\n",
       "      <td>819</td>\n",
       "    </tr>\n",
       "  </tbody>\n",
       "</table>\n",
       "</div>"
      ],
      "text/plain": [
       "   count\n",
       "0    819"
      ]
     },
     "execution_count": 10,
     "metadata": {},
     "output_type": "execute_result"
    }
   ],
   "source": [
    "book_num = '''SELECT COUNT(book_id) \n",
    "              FROM books \n",
    "              WHERE publication_date > '1.1.2000';'''\n",
    "\n",
    "pd.io.sql.read_sql(book_num, con = engine)"
   ]
  },
  {
   "cell_type": "markdown",
   "id": "6b5e38ed",
   "metadata": {},
   "source": [
    "I found 819 books after 1.1.2000. Doesn't seem like to much to be honest, the app needs to include some new books."
   ]
  },
  {
   "cell_type": "markdown",
   "id": "1613ac4d",
   "metadata": {},
   "source": [
    "<div class=\"alert alert-block alert-danger\">\n",
    "<b>Reviewer's comment</b> <a class=\"tocSkip\"></a>\n",
    "    \n",
    "We need books after January 1, 2000. We do not need other dates.</div>"
   ]
  },
  {
   "cell_type": "markdown",
   "id": "08ebd333",
   "metadata": {},
   "source": [
    "# Number of user reviews and the average rating for each book"
   ]
  },
  {
   "cell_type": "code",
   "execution_count": 19,
   "id": "ee299450",
   "metadata": {},
   "outputs": [
    {
     "data": {
      "text/html": [
       "<div>\n",
       "<style scoped>\n",
       "    .dataframe tbody tr th:only-of-type {\n",
       "        vertical-align: middle;\n",
       "    }\n",
       "\n",
       "    .dataframe tbody tr th {\n",
       "        vertical-align: top;\n",
       "    }\n",
       "\n",
       "    .dataframe thead th {\n",
       "        text-align: right;\n",
       "    }\n",
       "</style>\n",
       "<table border=\"1\" class=\"dataframe\">\n",
       "  <thead>\n",
       "    <tr style=\"text-align: right;\">\n",
       "      <th></th>\n",
       "      <th>number_of_reviews</th>\n",
       "      <th>avg_rating</th>\n",
       "      <th>title</th>\n",
       "    </tr>\n",
       "  </thead>\n",
       "  <tbody>\n",
       "    <tr>\n",
       "      <th>0</th>\n",
       "      <td>2.0</td>\n",
       "      <td>4.500000</td>\n",
       "      <td>The Body in the Library (Miss Marple  #3)</td>\n",
       "    </tr>\n",
       "    <tr>\n",
       "      <th>1</th>\n",
       "      <td>2.0</td>\n",
       "      <td>4.500000</td>\n",
       "      <td>Galápagos</td>\n",
       "    </tr>\n",
       "    <tr>\n",
       "      <th>2</th>\n",
       "      <td>5.0</td>\n",
       "      <td>4.250000</td>\n",
       "      <td>A Tree Grows in Brooklyn</td>\n",
       "    </tr>\n",
       "    <tr>\n",
       "      <th>3</th>\n",
       "      <td>2.0</td>\n",
       "      <td>4.000000</td>\n",
       "      <td>Undaunted Courage: The Pioneering First Missio...</td>\n",
       "    </tr>\n",
       "    <tr>\n",
       "      <th>4</th>\n",
       "      <td>4.0</td>\n",
       "      <td>4.285714</td>\n",
       "      <td>The Prophet</td>\n",
       "    </tr>\n",
       "    <tr>\n",
       "      <th>...</th>\n",
       "      <td>...</td>\n",
       "      <td>...</td>\n",
       "      <td>...</td>\n",
       "    </tr>\n",
       "    <tr>\n",
       "      <th>995</th>\n",
       "      <td>NaN</td>\n",
       "      <td>5.000000</td>\n",
       "      <td>The Cat in the Hat and Other Dr. Seuss Favorites</td>\n",
       "    </tr>\n",
       "    <tr>\n",
       "      <th>996</th>\n",
       "      <td>NaN</td>\n",
       "      <td>3.666667</td>\n",
       "      <td>Anne Rice's The Vampire Lestat: A Graphic Novel</td>\n",
       "    </tr>\n",
       "    <tr>\n",
       "      <th>997</th>\n",
       "      <td>NaN</td>\n",
       "      <td>4.000000</td>\n",
       "      <td>Essential Tales and Poems</td>\n",
       "    </tr>\n",
       "    <tr>\n",
       "      <th>998</th>\n",
       "      <td>NaN</td>\n",
       "      <td>4.000000</td>\n",
       "      <td>Leonardo's Notebooks</td>\n",
       "    </tr>\n",
       "    <tr>\n",
       "      <th>999</th>\n",
       "      <td>NaN</td>\n",
       "      <td>3.000000</td>\n",
       "      <td>The Natural Way to Draw</td>\n",
       "    </tr>\n",
       "  </tbody>\n",
       "</table>\n",
       "<p>1000 rows × 3 columns</p>\n",
       "</div>"
      ],
      "text/plain": [
       "     number_of_reviews  avg_rating  \\\n",
       "0                  2.0    4.500000   \n",
       "1                  2.0    4.500000   \n",
       "2                  5.0    4.250000   \n",
       "3                  2.0    4.000000   \n",
       "4                  4.0    4.285714   \n",
       "..                 ...         ...   \n",
       "995                NaN    5.000000   \n",
       "996                NaN    3.666667   \n",
       "997                NaN    4.000000   \n",
       "998                NaN    4.000000   \n",
       "999                NaN    3.000000   \n",
       "\n",
       "                                                 title  \n",
       "0            The Body in the Library (Miss Marple  #3)  \n",
       "1                                            Galápagos  \n",
       "2                             A Tree Grows in Brooklyn  \n",
       "3    Undaunted Courage: The Pioneering First Missio...  \n",
       "4                                          The Prophet  \n",
       "..                                                 ...  \n",
       "995   The Cat in the Hat and Other Dr. Seuss Favorites  \n",
       "996    Anne Rice's The Vampire Lestat: A Graphic Novel  \n",
       "997                          Essential Tales and Poems  \n",
       "998                               Leonardo's Notebooks  \n",
       "999                            The Natural Way to Draw  \n",
       "\n",
       "[1000 rows x 3 columns]"
      ]
     },
     "execution_count": 19,
     "metadata": {},
     "output_type": "execute_result"
    }
   ],
   "source": [
    "num_rev_avg_rat = '''WITH\n",
    "\n",
    "                     re AS (SELECT COUNT(review_id) AS number_of_reviews,\n",
    "                                   book_id\n",
    "                            FROM reviews\n",
    "                            GROUP BY book_id),\n",
    "                            \n",
    "                     ra AS (SELECT AVG(rating) AS avg_rating,\n",
    "                                   book_id\n",
    "                             FROM ratings\n",
    "                             GROUP BY book_id)\n",
    "                    \n",
    "                     \n",
    "                     SELECT re.number_of_reviews, \n",
    "                            ra.avg_rating,\n",
    "                            b.title\n",
    "                     FROM books AS b\n",
    "                     LEFT OUTER JOIN ra ON b.book_id = ra.book_id\n",
    "                     LEFT OUTER JOIN re ON b.book_id = re.book_id;'''\n",
    "\n",
    "pd.io.sql.read_sql(num_rev_avg_rat, con = engine)"
   ]
  },
  {
   "cell_type": "code",
   "execution_count": 20,
   "id": "12ea24db",
   "metadata": {},
   "outputs": [
    {
     "name": "stdout",
     "output_type": "stream",
     "text": [
      "<class 'pandas.core.frame.DataFrame'>\n",
      "RangeIndex: 1000 entries, 0 to 999\n",
      "Data columns (total 3 columns):\n",
      " #   Column             Non-Null Count  Dtype  \n",
      "---  ------             --------------  -----  \n",
      " 0   number_of_reviews  994 non-null    float64\n",
      " 1   avg_rating         1000 non-null   float64\n",
      " 2   title              1000 non-null   object \n",
      "dtypes: float64(2), object(1)\n",
      "memory usage: 23.6+ KB\n"
     ]
    }
   ],
   "source": [
    "pd.io.sql.read_sql(num_rev_avg_rat, con = engine).info()"
   ]
  },
  {
   "cell_type": "markdown",
   "id": "00bf2bd2",
   "metadata": {},
   "source": [
    "It does not seem like a lot of people are engaging in reviews, even if the book has a very high rating. "
   ]
  },
  {
   "cell_type": "markdown",
   "id": "233df73d",
   "metadata": {},
   "source": [
    "<div class=\"alert alert-block alert-danger\">\n",
    "<b>Reviewer's comment</b> <a class=\"tocSkip\"></a>\n",
    "    \n",
    "We need more simply query here. Main talbe is books. And we need 2 subqueries: for count and for avg.\n",
    "\n",
    "</div>"
   ]
  },
  {
   "cell_type": "markdown",
   "id": "4bc439f2",
   "metadata": {},
   "source": [
    "# The publisher that has released the greatest number of books"
   ]
  },
  {
   "cell_type": "code",
   "execution_count": 6,
   "id": "2040b53d",
   "metadata": {
    "scrolled": true
   },
   "outputs": [
    {
     "data": {
      "text/html": [
       "<div>\n",
       "<style scoped>\n",
       "    .dataframe tbody tr th:only-of-type {\n",
       "        vertical-align: middle;\n",
       "    }\n",
       "\n",
       "    .dataframe tbody tr th {\n",
       "        vertical-align: top;\n",
       "    }\n",
       "\n",
       "    .dataframe thead th {\n",
       "        text-align: right;\n",
       "    }\n",
       "</style>\n",
       "<table border=\"1\" class=\"dataframe\">\n",
       "  <thead>\n",
       "    <tr style=\"text-align: right;\">\n",
       "      <th></th>\n",
       "      <th>num_books</th>\n",
       "      <th>publisher</th>\n",
       "    </tr>\n",
       "  </thead>\n",
       "  <tbody>\n",
       "    <tr>\n",
       "      <th>0</th>\n",
       "      <td>42</td>\n",
       "      <td>Penguin Books</td>\n",
       "    </tr>\n",
       "  </tbody>\n",
       "</table>\n",
       "</div>"
      ],
      "text/plain": [
       "   num_books      publisher\n",
       "0         42  Penguin Books"
      ]
     },
     "execution_count": 6,
     "metadata": {},
     "output_type": "execute_result"
    }
   ],
   "source": [
    "publish_master = '''WITH\n",
    "                          \n",
    "                    p AS (SELECT publisher,\n",
    "                                 publisher_id\n",
    "                          FROM publishers),\n",
    "                    b AS (SELECT publisher_id,\n",
    "                                 COUNT(book_id) AS num_books\n",
    "                          FROM books\n",
    "                          WHERE num_pages > 50\n",
    "                          GROUP BY publisher_id)\n",
    "                          \n",
    "                    SELECT b.num_books,\n",
    "                           p.publisher\n",
    "                    FROM b\n",
    "                    LEFT OUTER JOIN p ON b.publisher_id = p.publisher_id\n",
    "                    ORDER BY b.num_books DESC LIMIT 1;'''\n",
    "\n",
    "pd.io.sql.read_sql(publish_master, con = engine)"
   ]
  },
  {
   "cell_type": "markdown",
   "id": "e168f950",
   "metadata": {},
   "source": [
    "I found the most popular publisher, bot it does not seem like a big amount of books, maybe the app in general needs a larger amount of books."
   ]
  },
  {
   "cell_type": "markdown",
   "id": "f494f6b8",
   "metadata": {},
   "source": [
    "<div class=\"alert alert-block alert-success\">\n",
    "<b>Reviewer's comment</b> <a class=\"tocSkip\"></a>\n",
    "    \n",
    "Yes, you are right!</div>"
   ]
  },
  {
   "cell_type": "markdown",
   "id": "86811b9e",
   "metadata": {},
   "source": [
    "# Author with the highest average book rating"
   ]
  },
  {
   "cell_type": "code",
   "execution_count": 7,
   "id": "a05960b3",
   "metadata": {
    "scrolled": true
   },
   "outputs": [
    {
     "data": {
      "text/html": [
       "<div>\n",
       "<style scoped>\n",
       "    .dataframe tbody tr th:only-of-type {\n",
       "        vertical-align: middle;\n",
       "    }\n",
       "\n",
       "    .dataframe tbody tr th {\n",
       "        vertical-align: top;\n",
       "    }\n",
       "\n",
       "    .dataframe thead th {\n",
       "        text-align: right;\n",
       "    }\n",
       "</style>\n",
       "<table border=\"1\" class=\"dataframe\">\n",
       "  <thead>\n",
       "    <tr style=\"text-align: right;\">\n",
       "      <th></th>\n",
       "      <th>avg_rating</th>\n",
       "      <th>author</th>\n",
       "    </tr>\n",
       "  </thead>\n",
       "  <tbody>\n",
       "    <tr>\n",
       "      <th>0</th>\n",
       "      <td>4.288462</td>\n",
       "      <td>J.K. Rowling/Mary GrandPré</td>\n",
       "    </tr>\n",
       "  </tbody>\n",
       "</table>\n",
       "</div>"
      ],
      "text/plain": [
       "   avg_rating                      author\n",
       "0    4.288462  J.K. Rowling/Mary GrandPré"
      ]
     },
     "execution_count": 7,
     "metadata": {},
     "output_type": "execute_result"
    }
   ],
   "source": [
    "great_auther = '''WITH\n",
    "\n",
    "                  br AS (SELECT COUNT(r.rating) AS num_rating,\n",
    "                                b.author_id\n",
    "                         FROM books as b\n",
    "                         LEFT OUTER JOIN ratings AS r ON b.book_id = r.book_id \n",
    "                         GROUP BY b.author_id)\n",
    "                         \n",
    "                  SELECT AVG(ra.rating) AS avg_rating,\n",
    "                         a.author\n",
    "                  FROM br\n",
    "                  LEFT OUTER JOIN books AS bo ON br.author_id = bo.author_id\n",
    "                  LEFT OUTER JOIN ratings AS ra ON bo.book_id = ra.book_id\n",
    "                  LEFT OUTER JOIN authors AS a ON br.author_id = a.author_id\n",
    "                  WHERE br.num_rating > 50\n",
    "                  GROUP BY a.author\n",
    "                  ORDER BY avg_rating DESC LIMIT 1;'''\n",
    "\n",
    "pd.io.sql.read_sql(great_auther, con = engine)"
   ]
  },
  {
   "cell_type": "markdown",
   "id": "393ae505",
   "metadata": {},
   "source": [
    "Not surprising to say the least."
   ]
  },
  {
   "cell_type": "markdown",
   "id": "7d8d6e98",
   "metadata": {},
   "source": [
    "<div class=\"alert alert-block alert-success\">\n",
    "<b>Reviewer's comment</b> <a class=\"tocSkip\"></a>\n",
    "\n",
    "Yes, Harry Potter is popular. :) </div>"
   ]
  },
  {
   "cell_type": "markdown",
   "id": "9a29f912",
   "metadata": {},
   "source": [
    "# Average number of text reviews"
   ]
  },
  {
   "cell_type": "code",
   "execution_count": 9,
   "id": "9ce88660",
   "metadata": {},
   "outputs": [
    {
     "data": {
      "text/html": [
       "<div>\n",
       "<style scoped>\n",
       "    .dataframe tbody tr th:only-of-type {\n",
       "        vertical-align: middle;\n",
       "    }\n",
       "\n",
       "    .dataframe tbody tr th {\n",
       "        vertical-align: top;\n",
       "    }\n",
       "\n",
       "    .dataframe thead th {\n",
       "        text-align: right;\n",
       "    }\n",
       "</style>\n",
       "<table border=\"1\" class=\"dataframe\">\n",
       "  <thead>\n",
       "    <tr style=\"text-align: right;\">\n",
       "      <th></th>\n",
       "      <th>avg</th>\n",
       "    </tr>\n",
       "  </thead>\n",
       "  <tbody>\n",
       "    <tr>\n",
       "      <th>0</th>\n",
       "      <td>24.333333</td>\n",
       "    </tr>\n",
       "  </tbody>\n",
       "</table>\n",
       "</div>"
      ],
      "text/plain": [
       "         avg\n",
       "0  24.333333"
      ]
     },
     "execution_count": 9,
     "metadata": {},
     "output_type": "execute_result"
    }
   ],
   "source": [
    "soso = '''SELECT AVG(final.review_count)\n",
    "          FROM (SELECT re.username,\n",
    "                       tr.rating_count,\n",
    "                       COUNT(re.review_id) AS review_count\n",
    "                FROM (SELECT username,\n",
    "                             COUNT(rating) as rating_count\n",
    "                      FROM ratings\n",
    "                      GROUP BY username\n",
    "                      HAVING COUNT(rating) > 50) AS tr\n",
    "                LEFT JOIN reviews AS re ON re.username = tr.username\n",
    "                GROUP BY re.username, tr.rating_count) AS final;'''\n",
    "pd.io.sql.read_sql(soso, con = engine)"
   ]
  },
  {
   "cell_type": "markdown",
   "id": "8c04991e",
   "metadata": {},
   "source": [
    "Even users that use the app constantly, don't like to use the review platform."
   ]
  },
  {
   "cell_type": "markdown",
   "id": "4e5da392",
   "metadata": {},
   "source": [
    "<div class=\"alert alert-block alert-danger\">\n",
    "<b>Reviewer's comment</b> <a class=\"tocSkip\"></a>\n",
    "\n",
    "We need  number of text reviews among users who rated **more than 50 books**. Not included.\n",
    "\n",
    "</div>"
   ]
  },
  {
   "cell_type": "markdown",
   "id": "88f2ec78",
   "metadata": {},
   "source": [
    "# Conclusion"
   ]
  },
  {
   "cell_type": "markdown",
   "id": "1b13a789",
   "metadata": {},
   "source": [
    "1. In the first task we sew that the number of books, since the beginning of the 2000's, in the app is 821.  \n",
    "   Which doesn't seem like much, the app needs to upload more books from the last two decades.\n",
    "1. From the second task we sew that the average rating does seem average,  \n",
    "   but the app users don't have a lot to go on with such a small number of reviews for each book.\n",
    "1. From the third task, we see that Penguin Books is a really big name in publishing. \n",
    "1. It would have bean surprising if J.K. Rowling wasn't the most top rated author. I mean, with a fan base like hers.\n",
    "1. Seems like only half of all rating of devoted users come along with a review.  \n",
    "   Maybe the app needs to improve the review platform.  "
   ]
  },
  {
   "cell_type": "markdown",
   "id": "c115cb13",
   "metadata": {},
   "source": [
    "<div class=\"alert alert-block alert-success\">\n",
    "<b>Reviewer's comment</b> <a class=\"tocSkip\"></a>\n",
    "\n",
    "Thank you for sup up whole project here! </div>"
   ]
  }
 ],
 "metadata": {
  "ExecuteTimeLog": [
   {
    "duration": 9463,
    "start_time": "2022-06-22T20:28:47.337Z"
   },
   {
    "duration": 260,
    "start_time": "2022-06-22T20:28:56.802Z"
   },
   {
    "duration": 67,
    "start_time": "2022-06-22T20:28:57.064Z"
   },
   {
    "duration": 62,
    "start_time": "2022-06-22T20:28:57.133Z"
   },
   {
    "duration": 102,
    "start_time": "2022-06-22T20:28:57.197Z"
   },
   {
    "duration": 75,
    "start_time": "2022-06-22T20:28:57.301Z"
   },
   {
    "duration": 68,
    "start_time": "2022-06-22T20:28:57.377Z"
   },
   {
    "duration": 69,
    "start_time": "2022-06-22T20:28:57.447Z"
   },
   {
    "duration": 93,
    "start_time": "2022-06-22T21:05:13.794Z"
   },
   {
    "duration": 95,
    "start_time": "2022-06-22T21:05:20.709Z"
   }
  ],
  "kernelspec": {
   "display_name": "Python 3 (ipykernel)",
   "language": "python",
   "name": "python3"
  },
  "language_info": {
   "codemirror_mode": {
    "name": "ipython",
    "version": 3
   },
   "file_extension": ".py",
   "mimetype": "text/x-python",
   "name": "python",
   "nbconvert_exporter": "python",
   "pygments_lexer": "ipython3",
   "version": "3.9.7"
  },
  "toc": {
   "base_numbering": 1,
   "nav_menu": {},
   "number_sections": true,
   "sideBar": true,
   "skip_h1_title": false,
   "title_cell": "Table of Contents",
   "title_sidebar": "Contents",
   "toc_cell": false,
   "toc_position": {},
   "toc_section_display": true,
   "toc_window_display": true
  },
  "varInspector": {
   "cols": {
    "lenName": 16,
    "lenType": 16,
    "lenVar": 40
   },
   "kernels_config": {
    "python": {
     "delete_cmd_postfix": "",
     "delete_cmd_prefix": "del ",
     "library": "var_list.py",
     "varRefreshCmd": "print(var_dic_list())"
    },
    "r": {
     "delete_cmd_postfix": ") ",
     "delete_cmd_prefix": "rm(",
     "library": "var_list.r",
     "varRefreshCmd": "cat(var_dic_list()) "
    }
   },
   "types_to_exclude": [
    "module",
    "function",
    "builtin_function_or_method",
    "instance",
    "_Feature"
   ],
   "window_display": false
  }
 },
 "nbformat": 4,
 "nbformat_minor": 5
}
